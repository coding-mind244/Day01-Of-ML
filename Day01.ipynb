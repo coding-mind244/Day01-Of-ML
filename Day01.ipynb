{
 "cells": [
  {
   "cell_type": "code",
   "execution_count": 1,
   "id": "9cd2a161-b1af-4fce-b6cc-23e84ec12879",
   "metadata": {},
   "outputs": [
    {
     "name": "stdout",
     "output_type": "stream",
     "text": [
      "Hi\n"
     ]
    }
   ],
   "source": [
    "print(\"Hi\")"
   ]
  },
  {
   "cell_type": "markdown",
   "id": "ad96575e-4014-4266-a964-9420b4ce6d91",
   "metadata": {},
   "source": [
    "# Import DataSet"
   ]
  },
  {
   "cell_type": "markdown",
   "id": "7fd54274-99fa-4406-9a88-047da87c8bdc",
   "metadata": {},
   "source": [
    "over here we will import dataset"
   ]
  },
  {
   "cell_type": "markdown",
   "id": "58468f22-4c09-452d-a9ff-e7fc0a825c64",
   "metadata": {},
   "source": [
    "## If you wanna access an excel file in python so import pandas library "
   ]
  },
  {
   "cell_type": "code",
   "execution_count": 1,
   "id": "c361fddf-be99-4edc-9dd3-530eb05711e0",
   "metadata": {},
   "outputs": [],
   "source": [
    "import pandas as pd"
   ]
  },
  {
   "cell_type": "code",
   "execution_count": 7,
   "id": "492aee4f-0177-4a36-9adf-536e75f3d736",
   "metadata": {},
   "outputs": [],
   "source": [
    "df = pd.read_csv('HR_capstone_dataset.csv')"
   ]
  },
  {
   "cell_type": "markdown",
   "id": "bb7ef808-7708-4537-8b5b-c4854552063b",
   "metadata": {},
   "source": [
    "### df is pandas object through which we can access the data some how we can see that here df is a varaiable "
   ]
  },
  {
   "cell_type": "code",
   "execution_count": null,
   "id": "564324f0-351d-44dd-9070-8852d716f017",
   "metadata": {},
   "outputs": [],
   "source": []
  }
 ],
 "metadata": {
  "kernelspec": {
   "display_name": "Python 3 (ipykernel)",
   "language": "python",
   "name": "python3"
  },
  "language_info": {
   "codemirror_mode": {
    "name": "ipython",
    "version": 3
   },
   "file_extension": ".py",
   "mimetype": "text/x-python",
   "name": "python",
   "nbconvert_exporter": "python",
   "pygments_lexer": "ipython3",
   "version": "3.12.7"
  }
 },
 "nbformat": 4,
 "nbformat_minor": 5
}
